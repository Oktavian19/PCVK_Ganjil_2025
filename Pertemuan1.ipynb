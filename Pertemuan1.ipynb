{
  "nbformat": 4,
  "nbformat_minor": 0,
  "metadata": {
    "colab": {
      "provenance": [],
      "authorship_tag": "ABX9TyNZcMRS6pCfPK1dp0J/w1Ue",
      "include_colab_link": true
    },
    "kernelspec": {
      "name": "python3",
      "display_name": "Python 3"
    },
    "language_info": {
      "name": "python"
    }
  },
  "cells": [
    {
      "cell_type": "markdown",
      "metadata": {
        "id": "view-in-github",
        "colab_type": "text"
      },
      "source": [
        "<a href=\"https://colab.research.google.com/github/Oktavian19/PCVK_Ganjil_2025/blob/main/Pertemuan1.ipynb\" target=\"_parent\"><img src=\"https://colab.research.google.com/assets/colab-badge.svg\" alt=\"Open In Colab\"/></a>"
      ]
    },
    {
      "cell_type": "code",
      "execution_count": 2,
      "metadata": {
        "id": "WZv2LU2RnFF8"
      },
      "outputs": [],
      "source": [
        "import numpy as np\n",
        "import pandas as np\n",
        "import cv2 as cv\n",
        "from google.colab.patches import cv2_imshow\n",
        "from skimage import io, transform\n",
        "from PIL import Image\n",
        "import matplotlib.pylab as plt"
      ]
    },
    {
      "cell_type": "code",
      "source": [
        "# membuat list untuk menyimpan url dari beberapa image\n",
        "urls = [\n",
        "    \"https://picsum.photos/200/300\", # Added comma here\n",
        "    \"https://picsum.photos/200/300\",\n",
        "]\n",
        "\n",
        "# baca dan tampilkan image\n",
        "# loop pada tiap url image, beberapa image dapat disimpan pada list\n",
        "for url in urls:\n",
        "  try:\n",
        "    image = io.imread(url)\n",
        "    # Check if image is loaded successfully\n",
        "    if image is not None:\n",
        "      image = cv.resize(image, (0,0), fx=0.5, fy=0.5)\n",
        "      image_2 = cv.cvtColor(image, cv.COLOR_BGR2RGB)\n",
        "      final_frame = cv.hconcat((image, image_2))\n",
        "      cv2_imshow(final_frame)\n",
        "      print('\\n') # Corrected newline character\n",
        "    else:\n",
        "      print(f\"Could not load image from {url}\")\n",
        "  except Exception as e:\n",
        "    print(f\"An error occurred while processing {url}: {e}\")"
      ],
      "metadata": {
        "id": "04fIMCBRo19w"
      },
      "execution_count": null,
      "outputs": []
    }
  ]
}